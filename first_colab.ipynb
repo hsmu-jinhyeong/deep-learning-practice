{
  "nbformat": 4,
  "nbformat_minor": 0,
  "metadata": {
    "colab": {
      "provenance": [],
      "gpuType": "T4",
      "mount_file_id": "1UZlLMk1lrTFeq3U7S82Xr-5A4TZP6nTW",
      "authorship_tag": "ABX9TyNWzbx+2usKO3eD2SH2UlgM",
      "include_colab_link": true
    },
    "kernelspec": {
      "name": "python3",
      "display_name": "Python 3"
    },
    "language_info": {
      "name": "python"
    }
  },
  "cells": [
    {
      "cell_type": "markdown",
      "metadata": {
        "id": "view-in-github",
        "colab_type": "text"
      },
      "source": [
        "<a href=\"https://colab.research.google.com/github/hsmu-jinhyeong/deep-learning-practice/blob/main/first_colab.ipynb\" target=\"_parent\"><img src=\"https://colab.research.google.com/assets/colab-badge.svg\" alt=\"Open In Colab\"/></a>"
      ]
    },
    {
      "cell_type": "code",
      "execution_count": 1,
      "metadata": {
        "colab": {
          "base_uri": "https://localhost:8080/"
        },
        "id": "DQ8B4FxFc7fl",
        "outputId": "8b47e66f-847c-4997-9b9d-fdf35d740d1a"
      },
      "outputs": [
        {
          "output_type": "stream",
          "name": "stdout",
          "text": [
            "Hello Deeplearning\n"
          ]
        }
      ],
      "source": [
        "print(\"Hello Deeplearning\")"
      ]
    },
    {
      "cell_type": "code",
      "source": [
        "import tensorflow as tf\n",
        "print(tf.__version__)"
      ],
      "metadata": {
        "colab": {
          "base_uri": "https://localhost:8080/"
        },
        "id": "4IaLCp13eAFd",
        "outputId": "a9078cf7-ae8b-4ccb-e168-cac70a739339"
      },
      "execution_count": 3,
      "outputs": [
        {
          "output_type": "stream",
          "name": "stdout",
          "text": [
            "2.18.0\n"
          ]
        }
      ]
    },
    {
      "cell_type": "code",
      "source": [
        "%cd drive/MyDrive/\n",
        "!mkdir 2025-1\n",
        "%cd 2025-1\n",
        "!mkdir ml\n",
        "!mkdir dl"
      ],
      "metadata": {
        "colab": {
          "base_uri": "https://localhost:8080/"
        },
        "id": "FhAUUj-legZJ",
        "outputId": "936d3c8e-e77f-497d-9bf8-8d6fc4f2ff80"
      },
      "execution_count": 10,
      "outputs": [
        {
          "output_type": "stream",
          "name": "stdout",
          "text": [
            "/content/drive/MyDrive\n",
            "/content/drive/MyDrive/2025-1\n"
          ]
        }
      ]
    },
    {
      "cell_type": "code",
      "source": [
        "cd ml"
      ],
      "metadata": {
        "colab": {
          "base_uri": "https://localhost:8080/"
        },
        "id": "Onp62pG_jR8U",
        "outputId": "1aaba2f4-20a3-4a1f-84cb-ea527b9b4de0"
      },
      "execution_count": 11,
      "outputs": [
        {
          "output_type": "stream",
          "name": "stdout",
          "text": [
            "/content/drive/MyDrive/2025-1/ml\n"
          ]
        }
      ]
    }
  ]
}