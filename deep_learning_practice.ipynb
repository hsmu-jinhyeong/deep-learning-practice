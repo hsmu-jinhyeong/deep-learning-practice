{
  "nbformat": 4,
  "nbformat_minor": 0,
  "metadata": {
    "colab": {
      "provenance": [],
      "authorship_tag": "ABX9TyNxLwN9YM0Kcknv0yBNKVOU",
      "include_colab_link": true
    },
    "kernelspec": {
      "name": "python3",
      "display_name": "Python 3"
    },
    "language_info": {
      "name": "python"
    }
  },
  "cells": [
    {
      "cell_type": "markdown",
      "metadata": {
        "id": "view-in-github",
        "colab_type": "text"
      },
      "source": [
        "<a href=\"https://colab.research.google.com/github/hsmu-jinhyeong/deep-learning-practice/blob/main/deep_learning_practice.ipynb\" target=\"_parent\"><img src=\"https://colab.research.google.com/assets/colab-badge.svg\" alt=\"Open In Colab\"/></a>"
      ]
    },
    {
      "cell_type": "code",
      "execution_count": null,
      "metadata": {
        "id": "O7F7y8dCLcz9"
      },
      "outputs": [],
      "source": [
        "from tensorflow.keras.models import Sequential # keras 라이브러리의 models classdptj Sequential 함수 불러오기\n",
        "from tensorflow.keras.layers import Dense # layer class에서 Dense 함수 불러오기\n",
        "import numpy as np # 데이터 전처리를 위해 사용하는 라이브러리 불러오기"
      ]
    }
  ]
}